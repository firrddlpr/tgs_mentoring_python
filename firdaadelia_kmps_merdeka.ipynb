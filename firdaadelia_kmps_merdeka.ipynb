{
  "nbformat": 4,
  "nbformat_minor": 0,
  "metadata": {
    "colab": {
      "provenance": [],
      "include_colab_link": true
    },
    "kernelspec": {
      "name": "python3",
      "display_name": "Python 3"
    },
    "language_info": {
      "name": "python"
    }
  },
  "cells": [
    {
      "cell_type": "markdown",
      "metadata": {
        "id": "view-in-github",
        "colab_type": "text"
      },
      "source": [
        "<a href=\"https://colab.research.google.com/github/firrddlpr/tgs_mentoring_python/blob/main/firdaadelia_kmps_merdeka.ipynb\" target=\"_parent\"><img src=\"https://colab.research.google.com/assets/colab-badge.svg\" alt=\"Open In Colab\"/></a>"
      ]
    },
    {
      "cell_type": "code",
      "source": [
        "odd=[x for x in range(2,200+12) if x %4!=0]\n",
        "squares=[x**2 for x in odd]\n",
        "total=sum(squares)\n",
        "mean=total/len(squares)\n",
        "print(total)\n",
        "print(mean)"
      ],
      "metadata": {
        "id": "Q4MNFOHXqdJJ",
        "colab": {
          "base_uri": "https://localhost:8080/"
        },
        "outputId": "17075ef8-cbec-4d7b-f838-fd666d019a2a"
      },
      "execution_count": 32,
      "outputs": [
        {
          "output_type": "stream",
          "name": "stdout",
          "text": [
            "2381925\n",
            "15075.474683544304\n"
          ]
        }
      ]
    },
    {
      "cell_type": "code",
      "source": [
        "a = int(input(\"masukan a= \"))\n",
        "if a<=50: #conditional form\n",
        "    print('small value')\n",
        "elif 50<=a>=100: #conditional form\n",
        "    print('middle value')\n",
        "else:\n",
        "    print('big value')"
      ],
      "metadata": {
        "colab": {
          "base_uri": "https://localhost:8080/"
        },
        "id": "oMiZmOEoncOi",
        "outputId": "41046ac4-bc06-4e84-bd59-214d6ac6fba1"
      },
      "execution_count": 4,
      "outputs": [
        {
          "output_type": "stream",
          "name": "stdout",
          "text": [
            "masukan a= 55\n",
            "middle value\n"
          ]
        }
      ]
    },
    {
      "cell_type": "code",
      "source": [
        "while True:\n",
        "  x = int(input(\"masukan nilai x= \"))\n",
        "  if x>=100:\n",
        "    print('valid value')\n",
        "  else:\n",
        "    print('not valid value')\n",
        "    break"
      ],
      "metadata": {
        "colab": {
          "base_uri": "https://localhost:8080/"
        },
        "id": "fLY43qi9ofrJ",
        "outputId": "adef6f37-da77-4781-d9d7-132e6fca1d3d"
      },
      "execution_count": 18,
      "outputs": [
        {
          "output_type": "stream",
          "name": "stdout",
          "text": [
            "masukan nilai x= 200\n",
            "valid value\n",
            "masukan nilai x= 100\n",
            "valid value\n",
            "masukan nilai x= 99\n",
            "not valid value\n"
          ]
        }
      ]
    },
    {
      "cell_type": "code",
      "source": [
        "pas= input(\"password= \")\n",
        "panjang=len(pas)>=8\n",
        "c1=\"1\" in pas\n",
        "cx= \"x\" in pas\n",
        "char=\"_\" in pas\n",
        "if panjang!=True:\n",
        "    print(\"terlalu pendek\")\n",
        "elif c1!=True:\n",
        "    print(\"harus mengandung 1\")\n",
        "elif cx!=True:\n",
        "    print(\"harus mengandng x\")\n",
        "elif char!=True:\n",
        "    print(\"harus mengandng _\")\n",
        "else:\n",
        "    print(\"password valid\")"
      ],
      "metadata": {
        "colab": {
          "base_uri": "https://localhost:8080/"
        },
        "id": "cj24khymFFdK",
        "outputId": "98c856ad-adb0-4dc6-ab86-ea58e321433e"
      },
      "execution_count": 83,
      "outputs": [
        {
          "output_type": "stream",
          "name": "stdout",
          "text": [
            "password= kuliah1_x\n",
            "password valid\n"
          ]
        }
      ]
    },
    {
      "cell_type": "code",
      "source": [
        "while True:\n",
        "    pas= input(\"password= \")\n",
        "    panjang=len(pas)<15\n",
        "    c12=\"12\" in pas\n",
        "    cy= \"xy\" in pas\n",
        "    char=\"_\" in pas\n",
        "    if panjang!=True:\n",
        "        print(\"terlalu panjang\")\n",
        "    elif c12!=True:\n",
        "        print(\"harus mengandung 12\")\n",
        "    elif cy!=True:\n",
        "        print(\"harus mengandung xy\")\n",
        "    elif char!=True:\n",
        "        print(\"harus mengandung _\")\n",
        "    else:\n",
        "        print(\"password benar\")\n",
        "        break"
      ],
      "metadata": {
        "colab": {
          "base_uri": "https://localhost:8080/"
        },
        "id": "JQmpJWY8F6gU",
        "outputId": "c6e2b21a-c921-4b4d-af3e-6e917a43b239"
      },
      "execution_count": 27,
      "outputs": [
        {
          "output_type": "stream",
          "name": "stdout",
          "text": [
            "password= kurang\n",
            "harus mengandung 12\n",
            "password= kurang minum air\n",
            "terlalu panjang\n",
            "password= kurang air\n",
            "harus mengandung 12\n",
            "password= kurang air12\n",
            "harus mengandung xy\n",
            "password= kurang air12xy\n",
            "harus mengandung _\n",
            "password= kurang_air12xy\n",
            "password benar\n"
          ]
        }
      ]
    },
    {
      "cell_type": "code",
      "source": [
        "count=0\n",
        "contoh_list=['abc', 'xyz', 'aaa','bbb', '5678']\n",
        "for i in range(len(contoh_list)):\n",
        "    if(contoh_list[i][0] == contoh_list[i][-1]):\n",
        "        count += 6\n",
        "print('jumlah string yg sama=',count)"
      ],
      "metadata": {
        "colab": {
          "base_uri": "https://localhost:8080/"
        },
        "id": "LOs66iMXqnR0",
        "outputId": "fc9dbfb2-05a3-4c5c-b0b2-13b85f7734b4"
      },
      "execution_count": 79,
      "outputs": [
        {
          "output_type": "stream",
          "name": "stdout",
          "text": [
            "jumlah string yg sama= 12\n"
          ]
        }
      ]
    },
    {
      "cell_type": "code",
      "source": [
        "while True:\n",
        "    kata=input(\"masukan kata= \")\n",
        "    if kata == kata[::-1]:\n",
        "        print(\"palidrom\")\n",
        "    else:\n",
        "        print(\"bukan palidrom\")\n",
        "        break"
      ],
      "metadata": {
        "colab": {
          "base_uri": "https://localhost:8080/"
        },
        "id": "KIAz0YraGEJe",
        "outputId": "b93ad542-a0d4-46c4-85ce-db17625c1904"
      },
      "execution_count": 39,
      "outputs": [
        {
          "output_type": "stream",
          "name": "stdout",
          "text": [
            "masukan kata= malam\n",
            "palidrom\n",
            "masukan kata= ini\n",
            "palidrom\n",
            "masukan kata= tamat\n",
            "palidrom\n",
            "masukan kata= oh gitu\n",
            "bukan palidrom\n"
          ]
        }
      ]
    },
    {
      "cell_type": "code",
      "source": [
        "def hitung(s):\n",
        "    d={'upper':0,'lower':0}\n",
        "    for x in s:\n",
        "        if x.isupper():\n",
        "            d['upper']+=1\n",
        "        elif x.islower():\n",
        "            d['lower']+=1\n",
        "    print('kalimat:', s)\n",
        "    print('jumlah huruf kapital:',d['upper'])\n",
        "    print('jumlah huruf kecil',d['lower'])\n",
        "hitung('mhfrxdfghnjkuytyrSDFBNBVCDdfgb')"
      ],
      "metadata": {
        "id": "79-V6Hg-GzsE",
        "outputId": "9f334e9d-7686-4c65-ad03-e00d9e5b218a",
        "colab": {
          "base_uri": "https://localhost:8080/"
        }
      },
      "execution_count": 41,
      "outputs": [
        {
          "output_type": "stream",
          "name": "stdout",
          "text": [
            "kalimat: mhfrxdfghnjkuytyrSDFBNBVCDdfgb\n",
            "jumlah huruf kapital: 9\n",
            "jumlah huruf kecil 21\n"
          ]
        }
      ]
    },
    {
      "cell_type": "code",
      "source": [
        "#Kata ganjil\n",
        "list1=[\"putri\",\"makan\",\"nasi\",\"goreng\",\"bersama\",\"siti\", \"di kali\"]\n",
        "for i in list1:\n",
        "    if len(i)%3==1:\n",
        "        print(i,end=\" \")"
      ],
      "metadata": {
        "colab": {
          "base_uri": "https://localhost:8080/"
        },
        "id": "CrkyyQgmGFJR",
        "outputId": "6b38beb3-bac7-4554-8579-24ce836fd29d"
      },
      "execution_count": 46,
      "outputs": [
        {
          "output_type": "stream",
          "name": "stdout",
          "text": [
            "nasi bersama siti di kali "
          ]
        }
      ]
    },
    {
      "cell_type": "code",
      "source": [
        "#kata genap\n",
        "list2=[\"putri\",\"makan\",\"nasi\",\"bersama\",\"siti\", \"di kali\"]\n",
        "for i in list1:\n",
        "    if len(i)%5==0:\n",
        "        print(i,end=\" \")"
      ],
      "metadata": {
        "colab": {
          "base_uri": "https://localhost:8080/"
        },
        "id": "EolCEUTjsQSH",
        "outputId": "8832a1cc-e219-44ce-8627-3534d4ab213e"
      },
      "execution_count": 51,
      "outputs": [
        {
          "output_type": "stream",
          "name": "stdout",
          "text": [
            "putri makan "
          ]
        }
      ]
    }
  ]
}